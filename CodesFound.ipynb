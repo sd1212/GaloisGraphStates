{
 "cells": [
  {
   "cell_type": "code",
   "execution_count": 16,
   "id": "887dd974-e7d1-4a04-96b4-d272df37db25",
   "metadata": {},
   "outputs": [],
   "source": [
    "import galois\n",
    "import numpy as np\n",
    "import itertools\n",
    "import random"
   ]
  },
  {
   "cell_type": "code",
   "execution_count": 17,
   "id": "f5bd2a88-0cb9-41e1-af5d-797d71a0c9af",
   "metadata": {},
   "outputs": [],
   "source": [
    "GF = galois.GF(3**2, repr = \"poly\")\n",
    "import pickle\n",
    "pkl_file = open('AME11_9.pkl', 'rb')\n",
    "G11 = pickle.load(pkl_file)\n",
    "pkl_file = open('AME8_9.pkl', 'rb')\n",
    "G8 = pickle.load(pkl_file)"
   ]
  },
  {
   "cell_type": "markdown",
   "id": "e3083d23-db2e-4056-89be-38d568ffd2b0",
   "metadata": {},
   "source": [
    "The matrices of G11 and G8 are the adjacency matrices of the graphs found with the 11 x 11 and 8 x 8 identity matrices respectively \n",
    "appended to the right.\n",
    "The identity part represents the action of the Z operators on the graph state in the graph basis, and the adjacency matrix represents the action of the X operators. \n",
    "We check to see that any low weight combination of X and Z operators always sends the graph state to an orthogonal state, \n",
    "which translates to a linear independence condition (see Theorem 5)."
   ]
  },
  {
   "cell_type": "code",
   "execution_count": 24,
   "id": "c765a930-c79b-4cc9-8af3-238c9929c304",
   "metadata": {},
   "outputs": [
    {
     "name": "stdout",
     "output_type": "stream",
     "text": [
      "[[     0      α      1      α  α + 1 2α + 1      0      1      1      0\n",
      "       0      0      0      0      0      0]\n",
      " [     α      0 2α + 1      0  α + 2  α + 2  α + 2 2α + 1      0      1\n",
      "       0      0      0      0      0      0]\n",
      " [     1 2α + 1      0     2α      2 2α + 2 2α + 2      1      0      0\n",
      "       1      0      0      0      0      0]\n",
      " [     α      0     2α      0      1      2  α + 2      α      0      0\n",
      "       0      1      0      0      0      0]\n",
      " [ α + 1  α + 2      2      1      0 2α + 2 2α + 2      1      0      0\n",
      "       0      0      1      0      0      0]\n",
      " [2α + 1  α + 2 2α + 2      2 2α + 2      0      0      2      0      0\n",
      "       0      0      0      1      0      0]\n",
      " [     0  α + 2 2α + 2  α + 2 2α + 2      0      0      1      0      0\n",
      "       0      0      0      0      1      0]\n",
      " [     1 2α + 1      1      α      1      2      1      0      0      0\n",
      "       0      0      0      0      0      1]]\n",
      "[[     0  α + 1     2α      1 2α + 1  α + 1 2α + 2      α      α      0\n",
      "      2α      1      0      0      0      0      0      0      0      0\n",
      "       0      0]\n",
      " [ α + 1      0  α + 2      2     2α  α + 1 2α + 1 2α + 2 2α + 2 2α + 1\n",
      "  2α + 2      0      1      0      0      0      0      0      0      0\n",
      "       0      0]\n",
      " [    2α  α + 2      0  α + 2      1      2  α + 2     2α  α + 1      α\n",
      "       α      0      0      1      0      0      0      0      0      0\n",
      "       0      0]\n",
      " [     1      2  α + 2      0  α + 2 2α + 1 2α + 1  α + 2  α + 2      1\n",
      "  2α + 1      0      0      0      1      0      0      0      0      0\n",
      "       0      0]\n",
      " [2α + 1     2α      1  α + 2      0 2α + 1  α + 1 2α + 1      α      0\n",
      "       2      0      0      0      0      1      0      0      0      0\n",
      "       0      0]\n",
      " [ α + 1  α + 1      2 2α + 1 2α + 1      0      0  α + 2  α + 1      0\n",
      "       0      0      0      0      0      0      1      0      0      0\n",
      "       0      0]\n",
      " [2α + 2 2α + 1  α + 2 2α + 1  α + 1      0      0      α      α      0\n",
      "       0      0      0      0      0      0      0      1      0      0\n",
      "       0      0]\n",
      " [     α 2α + 2     2α  α + 2 2α + 1  α + 2      α      0  α + 1 2α + 2\n",
      "       1      0      0      0      0      0      0      0      1      0\n",
      "       0      0]\n",
      " [     α 2α + 2  α + 1  α + 2      α  α + 1      α  α + 1      0 2α + 2\n",
      "       α      0      0      0      0      0      0      0      0      1\n",
      "       0      0]\n",
      " [     0 2α + 1      α      1      0      0      0 2α + 2 2α + 2      0\n",
      "       0      0      0      0      0      0      0      0      0      0\n",
      "       1      0]\n",
      " [    2α 2α + 2      α 2α + 1      2      0      0      1      α      0\n",
      "       0      0      0      0      0      0      0      0      0      0\n",
      "       0      1]]\n"
     ]
    }
   ],
   "source": [
    "print(G8)\n",
    "print(G11)"
   ]
  },
  {
   "cell_type": "code",
   "execution_count": 10,
   "id": "8dccbf61-c74f-4167-a363-3203597512f6",
   "metadata": {},
   "outputs": [],
   "source": [
    "def check_code8(G):\n",
    "    count = 0\n",
    "    good_code = True\n",
    "    for i in range(0,8):\n",
    "        for j in range(i+1,8):\n",
    "            for k in range(j+1,8):\n",
    "                for l in range(k+1,8):\n",
    "                    sub = G[:,[i,j, k, l,i+8,j+8,k+8,l+8]]\n",
    "                    if (np.linalg.matrix_rank(sub) < 8):\n",
    "                        good_code = False\n",
    "                    if good_code == False:\n",
    "                        break;\n",
    "                if good_code == False:\n",
    "                    break;\n",
    "            if good_code == False:\n",
    "                break;\n",
    "        if good_code == False:\n",
    "            break;\n",
    "    return good_code\n",
    "def check_code11(G):\n",
    "    good_code = True\n",
    "    for i in range(0,11):\n",
    "        for j in range(i+1,11):\n",
    "            for k in range(j+1,11):\n",
    "                for l in range(k+1,11):\n",
    "                    for p in range(l+1,11):\n",
    "                        sub = G[:,[i,j, k, l,p,i+11,j+11,k+11,l+11,p+11]]\n",
    "                        if (np.linalg.matrix_rank(sub) < 10):\n",
    "                            good_code = False\n",
    "                        if good_code == False:\n",
    "                            break;\n",
    "                    if good_code == False:\n",
    "                        break;\n",
    "                if good_code == False:\n",
    "                    break;\n",
    "            if good_code == False:\n",
    "                break;\n",
    "        if good_code == False:\n",
    "            break;\n",
    "    return good_code"
   ]
  },
  {
   "cell_type": "markdown",
   "id": "5ed425a2-897d-44a0-b4f3-cc01bdf07d01",
   "metadata": {},
   "source": [
    "We now check the linear independence condition for each code.\n",
    "For G8, all errors of wt up to 4 should send the state to an orthogonal state\n",
    "For G11, all errors of wt up to 5 should send the state to an orthogonal state"
   ]
  },
  {
   "cell_type": "code",
   "execution_count": 12,
   "id": "07c001f0-9984-41ac-8851-38d2733dbb99",
   "metadata": {},
   "outputs": [
    {
     "name": "stdout",
     "output_type": "stream",
     "text": [
      "True\n",
      "True\n"
     ]
    }
   ],
   "source": [
    "print(check_code8(G8))\n",
    "print(check_code11(G11))"
   ]
  },
  {
   "cell_type": "code",
   "execution_count": 23,
   "id": "c4aeb439-3bb4-4467-bd8a-a04ea3612917",
   "metadata": {},
   "outputs": [
    {
     "data": {
      "text/plain": [
       "'Galois Field:\\n  name: GF(3^2)\\n  characteristic: 3\\n  degree: 2\\n  order: 9\\n  irreducible_poly: x^2 + 2x + 2\\n  is_primitive_poly: True\\n  primitive_element: x'"
      ]
     },
     "execution_count": 23,
     "metadata": {},
     "output_type": "execute_result"
    }
   ],
   "source": [
    "GF.properties"
   ]
  },
  {
   "cell_type": "code",
   "execution_count": null,
   "id": "6343406d-d881-44bf-8774-d517966ca68d",
   "metadata": {},
   "outputs": [],
   "source": []
  }
 ],
 "metadata": {
  "kernelspec": {
   "display_name": "Python 3 (ipykernel)",
   "language": "python",
   "name": "python3"
  },
  "language_info": {
   "codemirror_mode": {
    "name": "ipython",
    "version": 3
   },
   "file_extension": ".py",
   "mimetype": "text/x-python",
   "name": "python",
   "nbconvert_exporter": "python",
   "pygments_lexer": "ipython3",
   "version": "3.12.3"
  }
 },
 "nbformat": 4,
 "nbformat_minor": 5
}
